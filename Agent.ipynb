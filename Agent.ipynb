{
 "cells": [
  {
   "cell_type": "code",
   "execution_count": 2,
   "id": "b0cbc25b",
   "metadata": {},
   "outputs": [],
   "source": [
    "from dotenv import load_dotenv\n",
    "load_dotenv()\n",
    "import os\n",
    "api_key = os.getenv(\"GOOGLE_API_KEY\")"
   ]
  },
  {
   "cell_type": "code",
   "execution_count": 3,
   "id": "535fe732",
   "metadata": {},
   "outputs": [],
   "source": [
    "from langchain_google_genai import ChatGoogleGenerativeAI\n",
    "from langchain_core.tools import Tool \n",
    "import requests"
   ]
  },
  {
   "cell_type": "code",
   "execution_count": 5,
   "id": "64c42039",
   "metadata": {},
   "outputs": [],
   "source": [
    "from langchain_community.tools import DuckDuckGoSearchRun\n",
    "\n",
    "search_tools = DuckDuckGoSearchRun()\n",
    "\n",
    "result =search_tools.invoke('where did indias pm currently traveld ')"
   ]
  },
  {
   "cell_type": "code",
   "execution_count": 7,
   "id": "b8e17737",
   "metadata": {},
   "outputs": [
    {
     "data": {
      "text/plain": [
       "\"3 days ago - He is the most widely-travelled Prime Minister of India. As of September 2025, Narendra Modi has made 92 international trips, visiting 78 countries, including visits to the United States to attend the United Nations General Assembly . ... Prime Minister Modi did not make any international trips ... 2 days ago - The 7, Lok Kalyan Marg, previously called 7, Race Course Road, in New Delhi , currently serves as the official place of residence for the prime minister of India. The residence during the tenure of Nehru, the first prime minister, was Teen Murti Bhavan. Lal Bahadur Shastri chose 10, Janpath ... 6 hours ago - One of Modi' s first visits as PM was to Nepal, during which he promised one billion US dollars in aid. Modi also made several visits to the US; this was described as an unexpected development because of the US' s earlier denial of a US travel visa to Modi over his role in the 2002 Gujarat riots. The visits were expected to strengthen diplomatic and trade relations between the two countries. In 2015, the Indian ... 2 days ago - The prime minister of India is the chief executive of the Government of India and chair of the Union Council of Ministers. Although the president of India is the constitutional, nominal, and ceremonial head of state, in practice and ordinarily, the executive authority is vested in the prime ... 4 weeks ago - The Prime Minister' s Office (PMO) (IAST: Pradhānamantrī Kāryālaya) consists of the immediate staff of the Prime Minister of India , as well as multiple levels of support staff reporting to the Prime Minister. The PMO is headed by the Principal Secretary to the Prime Minister of India , currently ...\""
      ]
     },
     "execution_count": 7,
     "metadata": {},
     "output_type": "execute_result"
    }
   ],
   "source": [
    "result"
   ]
  },
  {
   "cell_type": "code",
   "execution_count": 6,
   "id": "e4803ca3",
   "metadata": {},
   "outputs": [],
   "source": [
    "llm =ChatGoogleGenerativeAI(model=\"gemini-1.5-flash\")"
   ]
  },
  {
   "cell_type": "code",
   "execution_count": 7,
   "id": "f02b1b32",
   "metadata": {},
   "outputs": [
    {
     "data": {
      "text/plain": [
       "AIMessage(content='Mahendra Singh Dhoni, often known as MS Dhoni, is a former Indian international cricketer.  He is widely regarded as one of the greatest captains in the history of the sport, and is particularly known for his leadership of the Indian national cricket team.  He led India to victory in the 2007 ICC World Twenty20, the 2011 Cricket World Cup, and the 2013 ICC Champions Trophy.  He is also known for his exceptional wicket-keeping skills and his calm and composed demeanor on the field.  Beyond his international career, he has also played extensively in the Indian Premier League (IPL).', additional_kwargs={}, response_metadata={'prompt_feedback': {'block_reason': 0, 'safety_ratings': []}, 'finish_reason': 'STOP', 'model_name': 'gemini-1.5-flash', 'safety_ratings': []}, id='run--1637289d-f9a3-48bd-9812-572a7f64eca4-0', usage_metadata={'input_tokens': 5, 'output_tokens': 132, 'total_tokens': 137, 'input_token_details': {'cache_read': 0}})"
      ]
     },
     "execution_count": 7,
     "metadata": {},
     "output_type": "execute_result"
    }
   ],
   "source": [
    "llm.invoke('who is ms dhoni')"
   ]
  },
  {
   "cell_type": "code",
   "execution_count": 8,
   "id": "6fee54bd",
   "metadata": {},
   "outputs": [],
   "source": [
    "from langchain.agents import create_react_agent\n",
    "from langchain import hub"
   ]
  },
  {
   "cell_type": "code",
   "execution_count": 9,
   "id": "ba3041a5",
   "metadata": {},
   "outputs": [],
   "source": [
    "prompt= hub.pull('hwchase17/react')"
   ]
  },
  {
   "cell_type": "code",
   "execution_count": 10,
   "id": "30b50c8f",
   "metadata": {},
   "outputs": [],
   "source": [
    "agent=create_react_agent(\n",
    "    llm =llm,\n",
    "    tools =[search_tools],\n",
    "    prompt=prompt\n",
    ")"
   ]
  },
  {
   "cell_type": "code",
   "execution_count": 11,
   "id": "1109798b",
   "metadata": {},
   "outputs": [],
   "source": [
    "from langchain.agents import AgentExecutor"
   ]
  },
  {
   "cell_type": "code",
   "execution_count": 12,
   "id": "ce96139f",
   "metadata": {},
   "outputs": [],
   "source": [
    "agent_executor = AgentExecutor(\n",
    "    agent=agent,\n",
    "    tools=[search_tools],\n",
    "    verbose=True\n",
    ")"
   ]
  },
  {
   "cell_type": "code",
   "execution_count": 13,
   "id": "8260fcd8",
   "metadata": {},
   "outputs": [
    {
     "name": "stdout",
     "output_type": "stream",
     "text": [
      " Welcome to Manan Travel Planner \n",
      "\n",
      "\n",
      "\n",
      "\u001b[1m> Entering new AgentExecutor chain...\u001b[0m\n",
      "\u001b[32;1m\u001b[1;3mQuestion: Plan a personalized trip from [Starting Location] to [Destination] within a budget of [Budget]. Include 3 travel options, hotel suggestions, and a 3-day itinerary.\n",
      "\n",
      "Thought: I need the starting location, destination, and budget to answer this question.  I cannot provide a personalized trip plan without this information.\n",
      "\n",
      "Final Answer: I need the starting location, destination, and budget to create a personalized trip plan. Please provide this information.\n",
      "\u001b[0m\n",
      "\n",
      "\u001b[1m> Finished chain.\u001b[0m\n",
      "\n",
      " Your Personalized Travel Plan:\n",
      "\n",
      "I need the starting location, destination, and budget to create a personalized trip plan. Please provide this information.\n"
     ]
    }
   ],
   "source": [
    "def plan_trip():\n",
    "    print(\" Welcome to Manan Travel Planner \\n\")\n",
    "\n",
    "    origin = input(\"Enter your origin city: \")\n",
    "    destination = input(\"Enter your destination city: \")\n",
    "    budget = input(\"Enter your budget (in INR or USD): \")\n",
    "    transport = input(\"Preferred transport (flight/train/bus/car): \")\n",
    "\n",
    "    query = f\"\"\"\n",
    "    Plan a personalized {transport} trip from {origin} to {destination}\n",
    "    within a budget of {budget}.\n",
    "    Include 3 travel options, hotel suggestions, and a 3-day itinerary.\n",
    "    \"\"\"\n",
    "\n",
    "    response = agent_executor.invoke({\"input\": query})\n",
    "    print(\"\\n Your Personalized Travel Plan:\\n\")\n",
    "    print(response[\"output\"])\n",
    "\n",
    "# ==========================\n",
    "# Run the Planner\n",
    "# ==========================\n",
    "if __name__ == \"__main__\":\n",
    "    plan_trip()  "
   ]
  },
  {
   "cell_type": "code",
   "execution_count": 14,
   "id": "033eaff0",
   "metadata": {},
   "outputs": [],
   "source": [
    "!jupyter nbconvert --to script Agent.ipynb"
   ]
  }
 ],
 "metadata": {
  "kernelspec": {
   "display_name": "Python 3",
   "language": "python",
   "name": "python3"
  },
  "language_info": {
   "codemirror_mode": {
    "name": "ipython",
    "version": 3
   },
   "file_extension": ".py",
   "mimetype": "text/x-python",
   "name": "python",
   "nbconvert_exporter": "python",
   "pygments_lexer": "ipython3",
   "version": "3.10.11"
  }
 },
 "nbformat": 4,
 "nbformat_minor": 5
}
